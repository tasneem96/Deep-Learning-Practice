{
  "nbformat": 4,
  "nbformat_minor": 0,
  "metadata": {
    "colab": {
      "name": "Image classification using CNN.ipynb",
      "provenance": [],
      "authorship_tag": "ABX9TyNQLVJubnuUH9Nic+sd4/ph",
      "include_colab_link": true
    },
    "kernelspec": {
      "name": "python3",
      "display_name": "Python 3"
    },
    "language_info": {
      "name": "python"
    }
  },
  "cells": [
    {
      "cell_type": "markdown",
      "metadata": {
        "id": "view-in-github",
        "colab_type": "text"
      },
      "source": [
        "<a href=\"https://colab.research.google.com/github/tasneem96/Deep-Learning-Practice/blob/main/Image_classification_using_CNN.ipynb\" target=\"_parent\"><img src=\"https://colab.research.google.com/assets/colab-badge.svg\" alt=\"Open In Colab\"/></a>"
      ]
    },
    {
      "cell_type": "code",
      "execution_count": 1,
      "metadata": {
        "id": "AckXcqtQupeC"
      },
      "outputs": [],
      "source": [
        "import numpy as np\n",
        "import pandas as pd \n",
        "import tensorflow as tf\n",
        "from tensorflow import keras\n",
        "import matplotlib.pyplot as plt\n",
        "%matplotlib inline\n"
      ]
    },
    {
      "cell_type": "code",
      "source": [
        "(x_train, y_train),(x_test,y_test) = keras.datasets.cifar10.load_data()"
      ],
      "metadata": {
        "colab": {
          "base_uri": "https://localhost:8080/"
        },
        "id": "IS-JDGBi6RjD",
        "outputId": "157b3b6e-1705-40f5-f9d4-78f383de291b"
      },
      "execution_count": 2,
      "outputs": [
        {
          "output_type": "stream",
          "name": "stdout",
          "text": [
            "Downloading data from https://www.cs.toronto.edu/~kriz/cifar-10-python.tar.gz\n",
            "170500096/170498071 [==============================] - 2s 0us/step\n",
            "170508288/170498071 [==============================] - 2s 0us/step\n"
          ]
        }
      ]
    },
    {
      "cell_type": "code",
      "source": [
        "x_train.shape"
      ],
      "metadata": {
        "colab": {
          "base_uri": "https://localhost:8080/"
        },
        "id": "9QEGaBMO6gDi",
        "outputId": "7e121741-d6b0-49fa-aad0-24fbcbf93ade"
      },
      "execution_count": 4,
      "outputs": [
        {
          "output_type": "execute_result",
          "data": {
            "text/plain": [
              "(50000, 32, 32, 3)"
            ]
          },
          "metadata": {},
          "execution_count": 4
        }
      ]
    },
    {
      "cell_type": "code",
      "source": [
        "x_train[0]"
      ],
      "metadata": {
        "colab": {
          "base_uri": "https://localhost:8080/"
        },
        "id": "tPBUxj0K6mbL",
        "outputId": "7e9db143-5dd2-4709-ef11-e4e1ab9e926c"
      },
      "execution_count": 5,
      "outputs": [
        {
          "output_type": "execute_result",
          "data": {
            "text/plain": [
              "array([[[ 59,  62,  63],\n",
              "        [ 43,  46,  45],\n",
              "        [ 50,  48,  43],\n",
              "        ...,\n",
              "        [158, 132, 108],\n",
              "        [152, 125, 102],\n",
              "        [148, 124, 103]],\n",
              "\n",
              "       [[ 16,  20,  20],\n",
              "        [  0,   0,   0],\n",
              "        [ 18,   8,   0],\n",
              "        ...,\n",
              "        [123,  88,  55],\n",
              "        [119,  83,  50],\n",
              "        [122,  87,  57]],\n",
              "\n",
              "       [[ 25,  24,  21],\n",
              "        [ 16,   7,   0],\n",
              "        [ 49,  27,   8],\n",
              "        ...,\n",
              "        [118,  84,  50],\n",
              "        [120,  84,  50],\n",
              "        [109,  73,  42]],\n",
              "\n",
              "       ...,\n",
              "\n",
              "       [[208, 170,  96],\n",
              "        [201, 153,  34],\n",
              "        [198, 161,  26],\n",
              "        ...,\n",
              "        [160, 133,  70],\n",
              "        [ 56,  31,   7],\n",
              "        [ 53,  34,  20]],\n",
              "\n",
              "       [[180, 139,  96],\n",
              "        [173, 123,  42],\n",
              "        [186, 144,  30],\n",
              "        ...,\n",
              "        [184, 148,  94],\n",
              "        [ 97,  62,  34],\n",
              "        [ 83,  53,  34]],\n",
              "\n",
              "       [[177, 144, 116],\n",
              "        [168, 129,  94],\n",
              "        [179, 142,  87],\n",
              "        ...,\n",
              "        [216, 184, 140],\n",
              "        [151, 118,  84],\n",
              "        [123,  92,  72]]], dtype=uint8)"
            ]
          },
          "metadata": {},
          "execution_count": 5
        }
      ]
    },
    {
      "cell_type": "code",
      "source": [
        "y_train = y_train.reshape(-1)"
      ],
      "metadata": {
        "id": "n5uLXvRxAM11"
      },
      "execution_count": 8,
      "outputs": []
    },
    {
      "cell_type": "code",
      "source": [
        "classes = ['airplane','automobile','bird','cat','deer','dog','frog','horse','ship','truck']"
      ],
      "metadata": {
        "id": "2RLOcW0VATY0"
      },
      "execution_count": 9,
      "outputs": []
    },
    {
      "cell_type": "code",
      "source": [
        "def sample_image(x,y,index):\n",
        "  plt.figure(figsize = (15,2))\n",
        "  plt.imshow(x[index])\n",
        "  plt.xlabel(classes[y[index]])"
      ],
      "metadata": {
        "id": "XiCr5a1-7FU0"
      },
      "execution_count": 10,
      "outputs": []
    },
    {
      "cell_type": "code",
      "source": [
        "sample_image(x_train,y_train,0)"
      ],
      "metadata": {
        "colab": {
          "base_uri": "https://localhost:8080/",
          "height": 173
        },
        "id": "KlfmUPKbBvBD",
        "outputId": "39b1be94-bb4d-45e2-b518-aac2c03e4063"
      },
      "execution_count": 11,
      "outputs": [
        {
          "output_type": "display_data",
          "data": {
            "text/plain": [
              "<Figure size 1080x144 with 1 Axes>"
            ],
            "image/png": "[encoded data removed]"
          },
          "metadata": {
            "needs_background": "light"
          }
        }
      ]
    },
    {
      "cell_type": "code",
      "source": [
        "x_train = x_train/255\n",
        "x_test = x_test/255"
      ],
      "metadata": {
        "id": "oOiyYFVQB_LH"
      },
      "execution_count": 12,
      "outputs": []
    },
    {
      "cell_type": "code",
      "source": [
        "x_train[0]"
      ],
      "metadata": {
        "colab": {
          "base_uri": "https://localhost:8080/"
        },
        "id": "U9a2cxO9CkSZ",
        "outputId": "4002f9f2-a118-425d-e73b-c1580e66e4e1"
      },
      "execution_count": 13,
      "outputs": [
        {
          "output_type": "execute_result",
          "data": {
            "text/plain": [
              "array([[[0.23137255, 0.24313725, 0.24705882],\n",
              "        [0.16862745, 0.18039216, 0.17647059],\n",
              "        [0.19607843, 0.18823529, 0.16862745],\n",
              "        ...,\n",
              "        [0.61960784, 0.51764706, 0.42352941],\n",
              "        [0.59607843, 0.49019608, 0.4       ],\n",
              "        [0.58039216, 0.48627451, 0.40392157]],\n",
              "\n",
              "       [[0.0627451 , 0.07843137, 0.07843137],\n",
              "        [0.        , 0.        , 0.        ],\n",
              "        [0.07058824, 0.03137255, 0.        ],\n",
              "        ...,\n",
              "        [0.48235294, 0.34509804, 0.21568627],\n",
              "        [0.46666667, 0.3254902 , 0.19607843],\n",
              "        [0.47843137, 0.34117647, 0.22352941]],\n",
              "\n",
              "       [[0.09803922, 0.09411765, 0.08235294],\n",
              "        [0.0627451 , 0.02745098, 0.        ],\n",
              "        [0.19215686, 0.10588235, 0.03137255],\n",
              "        ...,\n",
              "        [0.4627451 , 0.32941176, 0.19607843],\n",
              "        [0.47058824, 0.32941176, 0.19607843],\n",
              "        [0.42745098, 0.28627451, 0.16470588]],\n",
              "\n",
              "       ...,\n",
              "\n",
              "       [[0.81568627, 0.66666667, 0.37647059],\n",
              "        [0.78823529, 0.6       , 0.13333333],\n",
              "        [0.77647059, 0.63137255, 0.10196078],\n",
              "        ...,\n",
              "        [0.62745098, 0.52156863, 0.2745098 ],\n",
              "        [0.21960784, 0.12156863, 0.02745098],\n",
              "        [0.20784314, 0.13333333, 0.07843137]],\n",
              "\n",
              "       [[0.70588235, 0.54509804, 0.37647059],\n",
              "        [0.67843137, 0.48235294, 0.16470588],\n",
              "        [0.72941176, 0.56470588, 0.11764706],\n",
              "        ...,\n",
              "        [0.72156863, 0.58039216, 0.36862745],\n",
              "        [0.38039216, 0.24313725, 0.13333333],\n",
              "        [0.3254902 , 0.20784314, 0.13333333]],\n",
              "\n",
              "       [[0.69411765, 0.56470588, 0.45490196],\n",
              "        [0.65882353, 0.50588235, 0.36862745],\n",
              "        [0.70196078, 0.55686275, 0.34117647],\n",
              "        ...,\n",
              "        [0.84705882, 0.72156863, 0.54901961],\n",
              "        [0.59215686, 0.4627451 , 0.32941176],\n",
              "        [0.48235294, 0.36078431, 0.28235294]]])"
            ]
          },
          "metadata": {},
          "execution_count": 13
        }
      ]
    },
    {
      "cell_type": "code",
      "source": [
        "y_train_categorical = keras.utils.to_categorical(\n",
        "    y_train, num_classes = 10,dtype = 'float32'\n",
        ")\n",
        "\n",
        "y_test_categorical = keras.utils.to_categorical(\n",
        "    y_test, num_classes = 10,dtype = 'float32'\n",
        ")"
      ],
      "metadata": {
        "id": "zex3G1-aDIst"
      },
      "execution_count": 15,
      "outputs": []
    },
    {
      "cell_type": "code",
      "source": [
        "model = keras.Sequential(\n",
        "   [\n",
        "    keras.layers.Flatten (input_shape = (32,32,3,)),\n",
        "    keras.layers.Dense (3000, activation = 'relu'),\n",
        "    keras.layers.Dense (1000, activation = 'relu'),\n",
        "    keras.layers.Dense (10, activation = 'sigmoid')\n",
        "   ]\n",
        ")\n",
        "\n",
        "model.compile(\n",
        "    optimizer = 'SGD',\n",
        "    loss = tf.keras.losses.CategoricalCrossentropy(from_logits=True),\n",
        "    metrics = ['accuracy']\n",
        ")\n",
        "\n",
        "\n",
        "model.fit(x_train,y_train_categorical,epochs = 5)"
      ],
      "metadata": {
        "colab": {
          "base_uri": "https://localhost:8080/"
        },
        "id": "KIfFaTS0Fjvs",
        "outputId": "6fcebfec-e5c0-49e4-ee94-3758f273d833"
      },
      "execution_count": 33,
      "outputs": [
        {
          "output_type": "stream",
          "name": "stdout",
          "text": [
            "Epoch 1/5\n"
          ]
        },
        {
          "output_type": "stream",
          "name": "stderr",
          "text": [
            "/usr/local/lib/python3.7/dist-packages/tensorflow/python/util/dispatch.py:1082: UserWarning: \"`categorical_crossentropy` received `from_logits=True`, but the `output` argument was produced by a sigmoid or softmax activation and thus does not represent logits. Was this intended?\"\n",
            "  return dispatch_target(*args, **kwargs)\n"
          ]
        },
        {
          "output_type": "stream",
          "name": "stdout",
          "text": [
            "1563/1563 [==============================] - 110s 70ms/step - loss: 1.8096 - accuracy: 0.3550\n",
            "Epoch 2/5\n",
            "1563/1563 [==============================] - 112s 71ms/step - loss: 1.6217 - accuracy: 0.4289\n",
            "Epoch 3/5\n",
            "1563/1563 [==============================] - 111s 71ms/step - loss: 1.5410 - accuracy: 0.4562\n",
            "Epoch 4/5\n",
            "1563/1563 [==============================] - 109s 70ms/step - loss: 1.4802 - accuracy: 0.4773\n",
            "Epoch 5/5\n",
            "1563/1563 [==============================] - 108s 69ms/step - loss: 1.4330 - accuracy: 0.4969\n"
          ]
        },
        {
          "output_type": "execute_result",
          "data": {
            "text/plain": [
              "<keras.callbacks.History at 0x7fb6fecbf110>"
            ]
          },
          "metadata": {},
          "execution_count": 33
        }
      ]
    },
    {
      "cell_type": "code",
      "source": [
        "model.evaluate (x_test,y_test_categorical)"
      ],
      "metadata": {
        "colab": {
          "base_uri": "https://localhost:8080/"
        },
        "id": "CMkdS3XUTlo6",
        "outputId": "e36ff681-cea6-4a1e-a40e-9c43bfdf8d29"
      },
      "execution_count": 35,
      "outputs": [
        {
          "output_type": "stream",
          "name": "stdout",
          "text": [
            "  3/313 [..............................] - ETA: 8s - loss: 1.3191 - accuracy: 0.6146 "
          ]
        },
        {
          "output_type": "stream",
          "name": "stderr",
          "text": [
            "/usr/local/lib/python3.7/dist-packages/tensorflow/python/util/dispatch.py:1082: UserWarning: \"`categorical_crossentropy` received `from_logits=True`, but the `output` argument was produced by a sigmoid or softmax activation and thus does not represent logits. Was this intended?\"\n",
            "  return dispatch_target(*args, **kwargs)\n"
          ]
        },
        {
          "output_type": "stream",
          "name": "stdout",
          "text": [
            "313/313 [==============================] - 9s 27ms/step - loss: 1.4725 - accuracy: 0.4763\n"
          ]
        },
        {
          "output_type": "execute_result",
          "data": {
            "text/plain": [
              "[1.4725453853607178, 0.4763000011444092]"
            ]
          },
          "metadata": {},
          "execution_count": 35
        }
      ]
    },
    {
      "cell_type": "code",
      "source": [
        "CnnModel = keras.Sequential(\n",
        "    [\n",
        "        #Convolution+relu\n",
        "        #Polling\n",
        "      keras.layers.Conv2D(filters = 32, kernel_size = (3,3), activation = 'relu', input_shape = (32,32,3)),\n",
        "      keras.layers.MaxPooling2D(2,2),\n",
        "\n",
        "      keras.layers.Conv2D(filters = 32, kernel_size = (3,3), activation = 'relu'),\n",
        "      keras.layers.MaxPooling2D(2,2),\n",
        "\n",
        "      keras.layers.Flatten (),\n",
        "      keras.layers.Dense (100, activation = 'relu'),\n",
        "      keras.layers.Dense (10, activation = 'sigmoid')\n",
        "   ]\n",
        "\n",
        "    \n",
        ")\n",
        "\n",
        "CnnModel.compile(\n",
        "    optimizer = 'adam',\n",
        "    loss = tf.keras.losses.SparseCategoricalCrossentropy(from_logits = True),\n",
        "    metrics = ['accuracy']\n",
        ")\n",
        "\n",
        "CnnModel.fit(x_train,y_train,epochs = 5)"
      ],
      "metadata": {
        "colab": {
          "base_uri": "https://localhost:8080/"
        },
        "id": "G925QmoeNwff",
        "outputId": "6c24df28-ab85-44c8-fa00-19cbfe22751e"
      },
      "execution_count": 31,
      "outputs": [
        {
          "output_type": "stream",
          "name": "stdout",
          "text": [
            "Epoch 1/5\n"
          ]
        },
        {
          "output_type": "stream",
          "name": "stderr",
          "text": [
            "/usr/local/lib/python3.7/dist-packages/tensorflow/python/util/dispatch.py:1082: UserWarning: \"`sparse_categorical_crossentropy` received `from_logits=True`, but the `output` argument was produced by a sigmoid or softmax activation and thus does not represent logits. Was this intended?\"\n",
            "  return dispatch_target(*args, **kwargs)\n"
          ]
        },
        {
          "output_type": "stream",
          "name": "stdout",
          "text": [
            "1563/1563 [==============================] - 58s 36ms/step - loss: 1.4746 - accuracy: 0.4708\n",
            "Epoch 2/5\n",
            "1563/1563 [==============================] - 58s 37ms/step - loss: 1.1417 - accuracy: 0.5977\n",
            "Epoch 3/5\n",
            "1563/1563 [==============================] - 57s 36ms/step - loss: 1.0174 - accuracy: 0.6442\n",
            "Epoch 4/5\n",
            "1563/1563 [==============================] - 56s 36ms/step - loss: 0.9236 - accuracy: 0.6770\n",
            "Epoch 5/5\n",
            "1563/1563 [==============================] - 58s 37ms/step - loss: 0.8581 - accuracy: 0.7008\n"
          ]
        },
        {
          "output_type": "execute_result",
          "data": {
            "text/plain": [
              "<keras.callbacks.History at 0x7fb6fee0cad0>"
            ]
          },
          "metadata": {},
          "execution_count": 31
        }
      ]
    },
    {
      "cell_type": "code",
      "source": [
        "CnnModel.evaluate(x_test,y_test)"
      ],
      "metadata": {
        "colab": {
          "base_uri": "https://localhost:8080/"
        },
        "id": "pGivl1ZvN8Ao",
        "outputId": "1935f62f-1d09-4a9f-ee76-d796e11e502d"
      },
      "execution_count": 34,
      "outputs": [
        {
          "output_type": "stream",
          "name": "stdout",
          "text": [
            "  6/313 [..............................] - ETA: 3s - loss: 0.8684 - accuracy: 0.7031 "
          ]
        },
        {
          "output_type": "stream",
          "name": "stderr",
          "text": [
            "/usr/local/lib/python3.7/dist-packages/tensorflow/python/util/dispatch.py:1082: UserWarning: \"`sparse_categorical_crossentropy` received `from_logits=True`, but the `output` argument was produced by a sigmoid or softmax activation and thus does not represent logits. Was this intended?\"\n",
            "  return dispatch_target(*args, **kwargs)\n"
          ]
        },
        {
          "output_type": "stream",
          "name": "stdout",
          "text": [
            "313/313 [==============================] - 4s 11ms/step - loss: 0.9394 - accuracy: 0.6733\n"
          ]
        },
        {
          "output_type": "execute_result",
          "data": {
            "text/plain": [
              "[0.9394413232803345, 0.67330002784729]"
            ]
          },
          "metadata": {},
          "execution_count": 34
        }
      ]
    },
    {
      "cell_type": "code",
      "source": [
        "from sklearn.metrics import classification_report , confusion_matrix\n",
        "\n",
        "y_pred = model.predict(x_test)\n",
        "y_pred_class = [np.argmax(element) for element in y_pred]\n",
        "\n",
        "print('Classification_report: \\n', classification_report(y_test,y_pred_class))"
      ],
      "metadata": {
        "colab": {
          "base_uri": "https://localhost:8080/"
        },
        "id": "Ta9N8YHSTv_A",
        "outputId": "ad0e7d47-0742-4a22-84a1-903a66feadc4"
      },
      "execution_count": 38,
      "outputs": [
        {
          "output_type": "stream",
          "name": "stdout",
          "text": [
            "Classification_report: \n",
            "               precision    recall  f1-score   support\n",
            "\n",
            "           0       0.50      0.61      0.55      1000\n",
            "           1       0.67      0.57      0.62      1000\n",
            "           2       0.40      0.31      0.35      1000\n",
            "           3       0.31      0.42      0.36      1000\n",
            "           4       0.54      0.24      0.33      1000\n",
            "           5       0.45      0.24      0.32      1000\n",
            "           6       0.35      0.80      0.49      1000\n",
            "           7       0.68      0.41      0.51      1000\n",
            "           8       0.63      0.61      0.62      1000\n",
            "           9       0.59      0.55      0.57      1000\n",
            "\n",
            "    accuracy                           0.48     10000\n",
            "   macro avg       0.51      0.48      0.47     10000\n",
            "weighted avg       0.51      0.48      0.47     10000\n",
            "\n"
          ]
        }
      ]
    },
    {
      "cell_type": "code",
      "source": [
        "y_pred = CnnModel.predict(x_test)\n",
        "y_pred_class = [np.argmax(element) for element in y_pred]\n",
        "\n",
        "print('Classification_report: \\n', classification_report(y_test,y_pred_class))"
      ],
      "metadata": {
        "colab": {
          "base_uri": "https://localhost:8080/"
        },
        "id": "hByicL4cVDyA",
        "outputId": "6e7fe609-f449-4606-dbab-1f46041f0fdd"
      },
      "execution_count": 39,
      "outputs": [
        {
          "output_type": "stream",
          "name": "stdout",
          "text": [
            "Classification_report: \n",
            "               precision    recall  f1-score   support\n",
            "\n",
            "           0       0.69      0.76      0.73      1000\n",
            "           1       0.79      0.78      0.79      1000\n",
            "           2       0.51      0.62      0.56      1000\n",
            "           3       0.52      0.41      0.46      1000\n",
            "           4       0.61      0.58      0.60      1000\n",
            "           5       0.54      0.60      0.57      1000\n",
            "           6       0.77      0.75      0.76      1000\n",
            "           7       0.80      0.70      0.75      1000\n",
            "           8       0.75      0.78      0.77      1000\n",
            "           9       0.78      0.74      0.76      1000\n",
            "\n",
            "    accuracy                           0.67     10000\n",
            "   macro avg       0.68      0.67      0.67     10000\n",
            "weighted avg       0.68      0.67      0.67     10000\n",
            "\n"
          ]
        }
      ]
    }
  ]
}