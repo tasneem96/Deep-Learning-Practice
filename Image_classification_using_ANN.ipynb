{
  "nbformat": 4,
  "nbformat_minor": 0,
  "metadata": {
    "colab": {
      "name": "Image classification using ANN.ipynb",
      "provenance": [],
      "authorship_tag": "ABX9TyMcX9izTwSHjb1TrHMHHeON",
      "include_colab_link": true
    },
    "kernelspec": {
      "name": "python3",
      "display_name": "Python 3"
    },
    "language_info": {
      "name": "python"
    }
  },
  "cells": [
    {
      "cell_type": "markdown",
      "metadata": {
        "id": "view-in-github",
        "colab_type": "text"
      },
      "source": [
        "<a href=\"https://colab.research.google.com/github/tasneem96/Deep-Learning-Practice/blob/main/Image_classification_using_ANN.ipynb\" target=\"_parent\"><img src=\"https://colab.research.google.com/assets/colab-badge.svg\" alt=\"Open In Colab\"/></a>"
      ]
    },
    {
      "cell_type": "code",
      "execution_count": 2,
      "metadata": {
        "id": "PrC-Ld1I5ZWC"
      },
      "outputs": [],
      "source": [
        "import tensorflow as tf\n",
        "from tensorflow import keras\n",
        "import pandas as pd\n",
        "import numpy as np\n",
        "import matplotlib.pyplot as plt"
      ]
    },
    {
      "cell_type": "code",
      "source": [
        "(x_train , y_train),(x_test, y_test) = tf.keras.datasets.cifar10.load_data()\n",
        "x_train[0]\n"
      ],
      "metadata": {
        "colab": {
          "base_uri": "https://localhost:8080/"
        },
        "id": "_GazFcon7HM4",
        "outputId": "808c87fb-69ff-49f5-8c55-ab29c91a75b6"
      },
      "execution_count": 10,
      "outputs": [
        {
          "output_type": "stream",
          "name": "stdout",
          "text": [
            "Downloading data from https://www.cs.toronto.edu/~kriz/cifar-10-python.tar.gz\n",
            "170500096/170498071 [==============================] - 3s 0us/step\n",
            "170508288/170498071 [==============================] - 3s 0us/step\n"
          ]
        },
        {
          "output_type": "execute_result",
          "data": {
            "text/plain": [
              "array([[[ 59,  62,  63],\n",
              "        [ 43,  46,  45],\n",
              "        [ 50,  48,  43],\n",
              "        ...,\n",
              "        [158, 132, 108],\n",
              "        [152, 125, 102],\n",
              "        [148, 124, 103]],\n",
              "\n",
              "       [[ 16,  20,  20],\n",
              "        [  0,   0,   0],\n",
              "        [ 18,   8,   0],\n",
              "        ...,\n",
              "        [123,  88,  55],\n",
              "        [119,  83,  50],\n",
              "        [122,  87,  57]],\n",
              "\n",
              "       [[ 25,  24,  21],\n",
              "        [ 16,   7,   0],\n",
              "        [ 49,  27,   8],\n",
              "        ...,\n",
              "        [118,  84,  50],\n",
              "        [120,  84,  50],\n",
              "        [109,  73,  42]],\n",
              "\n",
              "       ...,\n",
              "\n",
              "       [[208, 170,  96],\n",
              "        [201, 153,  34],\n",
              "        [198, 161,  26],\n",
              "        ...,\n",
              "        [160, 133,  70],\n",
              "        [ 56,  31,   7],\n",
              "        [ 53,  34,  20]],\n",
              "\n",
              "       [[180, 139,  96],\n",
              "        [173, 123,  42],\n",
              "        [186, 144,  30],\n",
              "        ...,\n",
              "        [184, 148,  94],\n",
              "        [ 97,  62,  34],\n",
              "        [ 83,  53,  34]],\n",
              "\n",
              "       [[177, 144, 116],\n",
              "        [168, 129,  94],\n",
              "        [179, 142,  87],\n",
              "        ...,\n",
              "        [216, 184, 140],\n",
              "        [151, 118,  84],\n",
              "        [123,  92,  72]]], dtype=uint8)"
            ]
          },
          "metadata": {},
          "execution_count": 10
        }
      ]
    },
    {
      "cell_type": "code",
      "source": [
        "x_train_scaled = x_train/255\n",
        "x_test_scaled = x_test/255"
      ],
      "metadata": {
        "id": "O8zbEFxc7ndl"
      },
      "execution_count": 20,
      "outputs": []
    },
    {
      "cell_type": "code",
      "source": [
        "x_train_scaled[0]"
      ],
      "metadata": {
        "colab": {
          "base_uri": "https://localhost:8080/"
        },
        "id": "cH9lIsOh75jF",
        "outputId": "a862539a-7618-4502-ad6b-b56fee50046a"
      },
      "execution_count": 21,
      "outputs": [
        {
          "output_type": "execute_result",
          "data": {
            "text/plain": [
              "array([[[0.23137255, 0.24313725, 0.24705882],\n",
              "        [0.16862745, 0.18039216, 0.17647059],\n",
              "        [0.19607843, 0.18823529, 0.16862745],\n",
              "        ...,\n",
              "        [0.61960784, 0.51764706, 0.42352941],\n",
              "        [0.59607843, 0.49019608, 0.4       ],\n",
              "        [0.58039216, 0.48627451, 0.40392157]],\n",
              "\n",
              "       [[0.0627451 , 0.07843137, 0.07843137],\n",
              "        [0.        , 0.        , 0.        ],\n",
              "        [0.07058824, 0.03137255, 0.        ],\n",
              "        ...,\n",
              "        [0.48235294, 0.34509804, 0.21568627],\n",
              "        [0.46666667, 0.3254902 , 0.19607843],\n",
              "        [0.47843137, 0.34117647, 0.22352941]],\n",
              "\n",
              "       [[0.09803922, 0.09411765, 0.08235294],\n",
              "        [0.0627451 , 0.02745098, 0.        ],\n",
              "        [0.19215686, 0.10588235, 0.03137255],\n",
              "        ...,\n",
              "        [0.4627451 , 0.32941176, 0.19607843],\n",
              "        [0.47058824, 0.32941176, 0.19607843],\n",
              "        [0.42745098, 0.28627451, 0.16470588]],\n",
              "\n",
              "       ...,\n",
              "\n",
              "       [[0.81568627, 0.66666667, 0.37647059],\n",
              "        [0.78823529, 0.6       , 0.13333333],\n",
              "        [0.77647059, 0.63137255, 0.10196078],\n",
              "        ...,\n",
              "        [0.62745098, 0.52156863, 0.2745098 ],\n",
              "        [0.21960784, 0.12156863, 0.02745098],\n",
              "        [0.20784314, 0.13333333, 0.07843137]],\n",
              "\n",
              "       [[0.70588235, 0.54509804, 0.37647059],\n",
              "        [0.67843137, 0.48235294, 0.16470588],\n",
              "        [0.72941176, 0.56470588, 0.11764706],\n",
              "        ...,\n",
              "        [0.72156863, 0.58039216, 0.36862745],\n",
              "        [0.38039216, 0.24313725, 0.13333333],\n",
              "        [0.3254902 , 0.20784314, 0.13333333]],\n",
              "\n",
              "       [[0.69411765, 0.56470588, 0.45490196],\n",
              "        [0.65882353, 0.50588235, 0.36862745],\n",
              "        [0.70196078, 0.55686275, 0.34117647],\n",
              "        ...,\n",
              "        [0.84705882, 0.72156863, 0.54901961],\n",
              "        [0.59215686, 0.4627451 , 0.32941176],\n",
              "        [0.48235294, 0.36078431, 0.28235294]]])"
            ]
          },
          "metadata": {},
          "execution_count": 21
        }
      ]
    },
    {
      "cell_type": "code",
      "source": [
        "x_train[0].shape"
      ],
      "metadata": {
        "colab": {
          "base_uri": "https://localhost:8080/"
        },
        "id": "AYrnKY1h8mEG",
        "outputId": "c773d56b-1497-4b77-e1a3-6abdaee31435"
      },
      "execution_count": 22,
      "outputs": [
        {
          "output_type": "execute_result",
          "data": {
            "text/plain": [
              "(32, 32, 3)"
            ]
          },
          "metadata": {},
          "execution_count": 22
        }
      ]
    },
    {
      "cell_type": "code",
      "source": [
        "y_train_categolical = keras.utils.to_categorical(\n",
        "    y_train, num_classes = 10, dtype = 'float32'\n",
        ")"
      ],
      "metadata": {
        "id": "VvLQfOqU_R3P"
      },
      "execution_count": 25,
      "outputs": []
    },
    {
      "cell_type": "code",
      "source": [
        "y_test_categorical = keras.utils.to_categorical(\n",
        "    y_test,num_classes = 10, dtype='float32'\n",
        ")"
      ],
      "metadata": {
        "id": "b0WUWzsn_ziA"
      },
      "execution_count": 26,
      "outputs": []
    },
    {
      "cell_type": "code",
      "source": [
        "y_train_categolical"
      ],
      "metadata": {
        "colab": {
          "base_uri": "https://localhost:8080/"
        },
        "id": "P8SKz8JnAGhK",
        "outputId": "9cef2fff-8a8c-4ae6-9b39-eeb7ab00264c"
      },
      "execution_count": 27,
      "outputs": [
        {
          "output_type": "execute_result",
          "data": {
            "text/plain": [
              "array([[0., 0., 0., ..., 0., 0., 0.],\n",
              "       [0., 0., 0., ..., 0., 0., 1.],\n",
              "       [0., 0., 0., ..., 0., 0., 1.],\n",
              "       ...,\n",
              "       [0., 0., 0., ..., 0., 0., 1.],\n",
              "       [0., 1., 0., ..., 0., 0., 0.],\n",
              "       [0., 1., 0., ..., 0., 0., 0.]], dtype=float32)"
            ]
          },
          "metadata": {},
          "execution_count": 27
        }
      ]
    },
    {
      "cell_type": "code",
      "source": [
        "y_test_categorical"
      ],
      "metadata": {
        "colab": {
          "base_uri": "https://localhost:8080/"
        },
        "id": "PSfS-TGbALFD",
        "outputId": "575996ae-2f0c-49e9-824b-cec0b8aa7993"
      },
      "execution_count": 28,
      "outputs": [
        {
          "output_type": "execute_result",
          "data": {
            "text/plain": [
              "array([[0., 0., 0., ..., 0., 0., 0.],\n",
              "       [0., 0., 0., ..., 0., 1., 0.],\n",
              "       [0., 0., 0., ..., 0., 1., 0.],\n",
              "       ...,\n",
              "       [0., 0., 0., ..., 0., 0., 0.],\n",
              "       [0., 1., 0., ..., 0., 0., 0.],\n",
              "       [0., 0., 0., ..., 1., 0., 0.]], dtype=float32)"
            ]
          },
          "metadata": {},
          "execution_count": 28
        }
      ]
    },
    {
      "cell_type": "code",
      "source": [
        "model = keras.Sequential(\n",
        "    [\n",
        "     keras.layers.Flatten(input_shape = (32,32,3)),\n",
        "     keras.layers.Dense(3000, activation ='relu'),\n",
        "     keras.layers.Dense(1000, activation ='relu'),\n",
        "     keras.layers.Dense(10, activation = 'sigmoid')\n",
        "\n",
        "    ]\n",
        ")\n",
        "\n",
        "model.compile(\n",
        "    optimizer = 'SGD',\n",
        "    loss = tf.keras.losses.CategoricalCrossentropy(from_logits=True),\n",
        "    metrics = ['accuracy']\n",
        ")\n",
        "\n",
        "model.fit(x_train_scaled,y_train_categolical,epochs=50)"
      ],
      "metadata": {
        "colab": {
          "base_uri": "https://localhost:8080/"
        },
        "id": "BMYV_iEn8AiZ",
        "outputId": "2ee84cbc-64f7-444b-9300-dac92f29b8ed"
      },
      "execution_count": 29,
      "outputs": [
        {
          "metadata": {
            "tags": null
          },
          "name": "stdout",
          "output_type": "stream",
          "text": [
            "Epoch 1/50\n"
          ]
        },
        {
          "metadata": {
            "tags": null
          },
          "name": "stderr",
          "output_type": "stream",
          "text": [
            "/usr/local/lib/python3.7/dist-packages/tensorflow/python/util/dispatch.py:1082: UserWarning: \"`categorical_crossentropy` received `from_logits=True`, but the `output` argument was produced by a sigmoid or softmax activation and thus does not represent logits. Was this intended?\"\n",
            "  return dispatch_target(*args, **kwargs)\n"
          ]
        },
        {
          "output_type": "stream",
          "name": "stdout",
          "text": [
            "1563/1563 [==============================] - 117s 75ms/step - loss: 1.8128 - accuracy: 0.3542\n",
            "Epoch 2/50\n",
            "1563/1563 [==============================] - 116s 74ms/step - loss: 1.6261 - accuracy: 0.4251\n",
            "Epoch 3/50\n",
            "1563/1563 [==============================] - 116s 74ms/step - loss: 1.5420 - accuracy: 0.4568\n",
            "Epoch 4/50\n",
            "1563/1563 [==============================] - 122s 78ms/step - loss: 1.4811 - accuracy: 0.4788\n",
            "Epoch 5/50\n",
            "1563/1563 [==============================] - 120s 77ms/step - loss: 1.4304 - accuracy: 0.4953\n",
            "Epoch 6/50\n",
            "1563/1563 [==============================] - 121s 77ms/step - loss: 1.3889 - accuracy: 0.5134\n",
            "Epoch 7/50\n",
            "1563/1563 [==============================] - 121s 77ms/step - loss: 1.3493 - accuracy: 0.5242\n",
            "Epoch 8/50\n",
            "1563/1563 [==============================] - 121s 77ms/step - loss: 1.3137 - accuracy: 0.5389\n",
            "Epoch 9/50\n",
            "1563/1563 [==============================] - 121s 77ms/step - loss: 1.2822 - accuracy: 0.5508\n",
            "Epoch 10/50\n",
            "1563/1563 [==============================] - 121s 78ms/step - loss: 1.2491 - accuracy: 0.5608\n",
            "Epoch 11/50\n",
            "1563/1563 [==============================] - 122s 78ms/step - loss: 1.2215 - accuracy: 0.5733\n",
            "Epoch 12/50\n",
            "1563/1563 [==============================] - 122s 78ms/step - loss: 1.1945 - accuracy: 0.5827\n",
            "Epoch 13/50\n",
            "1563/1563 [==============================] - 123s 79ms/step - loss: 1.1659 - accuracy: 0.5922\n",
            "Epoch 14/50\n",
            "1563/1563 [==============================] - 123s 79ms/step - loss: 1.1394 - accuracy: 0.6005\n",
            "Epoch 15/50\n",
            "1563/1563 [==============================] - 122s 78ms/step - loss: 1.1113 - accuracy: 0.6116\n",
            "Epoch 16/50\n",
            "1563/1563 [==============================] - 122s 78ms/step - loss: 1.0847 - accuracy: 0.6220\n",
            "Epoch 17/50\n",
            "1563/1563 [==============================] - 122s 78ms/step - loss: 1.0583 - accuracy: 0.6316\n",
            "Epoch 18/50\n",
            "1563/1563 [==============================] - 122s 78ms/step - loss: 1.0334 - accuracy: 0.6402\n",
            "Epoch 19/50\n",
            "1563/1563 [==============================] - 122s 78ms/step - loss: 1.0054 - accuracy: 0.6490\n",
            "Epoch 20/50\n",
            "1563/1563 [==============================] - 121s 77ms/step - loss: 0.9806 - accuracy: 0.6589\n",
            "Epoch 21/50\n",
            "1563/1563 [==============================] - 122s 78ms/step - loss: 0.9540 - accuracy: 0.6682\n",
            "Epoch 22/50\n",
            "1563/1563 [==============================] - 121s 77ms/step - loss: 0.9296 - accuracy: 0.6769\n",
            "Epoch 23/50\n",
            "1563/1563 [==============================] - 121s 77ms/step - loss: 0.9044 - accuracy: 0.6857\n",
            "Epoch 24/50\n",
            "1563/1563 [==============================] - 121s 77ms/step - loss: 0.8803 - accuracy: 0.6942\n",
            "Epoch 25/50\n",
            "1563/1563 [==============================] - 121s 77ms/step - loss: 0.8537 - accuracy: 0.7052\n",
            "Epoch 26/50\n",
            "1563/1563 [==============================] - 121s 77ms/step - loss: 0.8277 - accuracy: 0.7151\n",
            "Epoch 27/50\n",
            "1563/1563 [==============================] - 122s 78ms/step - loss: 0.8026 - accuracy: 0.7236\n",
            "Epoch 28/50\n",
            "1563/1563 [==============================] - 121s 78ms/step - loss: 0.7781 - accuracy: 0.7314\n",
            "Epoch 29/50\n",
            "1563/1563 [==============================] - 121s 78ms/step - loss: 0.7501 - accuracy: 0.7424\n",
            "Epoch 30/50\n",
            "1563/1563 [==============================] - 121s 78ms/step - loss: 0.7251 - accuracy: 0.7527\n",
            "Epoch 31/50\n",
            "1563/1563 [==============================] - 121s 77ms/step - loss: 0.7024 - accuracy: 0.7604\n",
            "Epoch 32/50\n",
            "1563/1563 [==============================] - 121s 78ms/step - loss: 0.6766 - accuracy: 0.7696\n",
            "Epoch 33/50\n",
            "1563/1563 [==============================] - 122s 78ms/step - loss: 0.6567 - accuracy: 0.7782\n",
            "Epoch 34/50\n",
            "1563/1563 [==============================] - 121s 78ms/step - loss: 0.6267 - accuracy: 0.7899\n",
            "Epoch 35/50\n",
            "1563/1563 [==============================] - 122s 78ms/step - loss: 0.6040 - accuracy: 0.7967\n",
            "Epoch 36/50\n",
            "1563/1563 [==============================] - 122s 78ms/step - loss: 0.5827 - accuracy: 0.8060\n",
            "Epoch 37/50\n",
            "1563/1563 [==============================] - 122s 78ms/step - loss: 0.5556 - accuracy: 0.8180\n",
            "Epoch 38/50\n",
            "1563/1563 [==============================] - 121s 77ms/step - loss: 0.5330 - accuracy: 0.8246\n",
            "Epoch 39/50\n",
            "1563/1563 [==============================] - 121s 78ms/step - loss: 0.5055 - accuracy: 0.8338\n",
            "Epoch 40/50\n",
            "1563/1563 [==============================] - 121s 78ms/step - loss: 0.4925 - accuracy: 0.8371\n",
            "Epoch 41/50\n",
            "1563/1563 [==============================] - 121s 78ms/step - loss: 0.4647 - accuracy: 0.8494\n",
            "Epoch 42/50\n",
            "1563/1563 [==============================] - 121s 77ms/step - loss: 0.4444 - accuracy: 0.8562\n",
            "Epoch 43/50\n",
            "1563/1563 [==============================] - 122s 78ms/step - loss: 0.4255 - accuracy: 0.8621\n",
            "Epoch 44/50\n",
            "1563/1563 [==============================] - 122s 78ms/step - loss: 0.4037 - accuracy: 0.8707\n",
            "Epoch 45/50\n",
            "1563/1563 [==============================] - 122s 78ms/step - loss: 0.3830 - accuracy: 0.8785\n",
            "Epoch 46/50\n",
            "1563/1563 [==============================] - 120s 77ms/step - loss: 0.3646 - accuracy: 0.8850\n",
            "Epoch 47/50\n",
            "1563/1563 [==============================] - 121s 77ms/step - loss: 0.3433 - accuracy: 0.8935\n",
            "Epoch 48/50\n",
            "1563/1563 [==============================] - 122s 78ms/step - loss: 0.3271 - accuracy: 0.9000\n",
            "Epoch 49/50\n",
            "1563/1563 [==============================] - 121s 78ms/step - loss: 0.3105 - accuracy: 0.9063\n",
            "Epoch 50/50\n",
            "1563/1563 [==============================] - 122s 78ms/step - loss: 0.2901 - accuracy: 0.9137\n"
          ]
        },
        {
          "output_type": "execute_result",
          "data": {
            "text/plain": [
              "<keras.callbacks.History at 0x7f0c8a102450>"
            ]
          },
          "metadata": {},
          "execution_count": 29
        }
      ]
    },
    {
      "cell_type": "code",
      "source": [
        "classes = ['airplane','automobile','bird','cat','deer','dog','frog','horse','ship','truck']"
      ],
      "metadata": {
        "id": "qdU94hc8U4H5"
      },
      "execution_count": 30,
      "outputs": []
    },
    {
      "cell_type": "code",
      "source": [
        "classes[np.argmax(model.predict(x_test_scaled)[0])]"
      ],
      "metadata": {
        "colab": {
          "base_uri": "https://localhost:8080/",
          "height": 35
        },
        "id": "9rmsAP1CWFmg",
        "outputId": "aeb4f5e5-2eaa-4545-80c4-b9f5acd731db"
      },
      "execution_count": 36,
      "outputs": [
        {
          "output_type": "execute_result",
          "data": {
            "text/plain": [
              "'cat'"
            ],
            "application/vnd.google.colaboratory.intrinsic+json": {
              "type": "string"
            }
          },
          "metadata": {},
          "execution_count": 36
        }
      ]
    },
    {
      "cell_type": "code",
      "source": [
        "classes[y_test[0][0]]"
      ],
      "metadata": {
        "colab": {
          "base_uri": "https://localhost:8080/",
          "height": 35
        },
        "id": "qYcNYi2OWlBR",
        "outputId": "a4d07197-10b7-4a22-e76b-05825966a0ad"
      },
      "execution_count": 35,
      "outputs": [
        {
          "output_type": "execute_result",
          "data": {
            "text/plain": [
              "'cat'"
            ],
            "application/vnd.google.colaboratory.intrinsic+json": {
              "type": "string"
            }
          },
          "metadata": {},
          "execution_count": 35
        }
      ]
    }
  ]
}