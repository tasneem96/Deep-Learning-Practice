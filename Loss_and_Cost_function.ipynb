{
  "nbformat": 4,
  "nbformat_minor": 0,
  "metadata": {
    "colab": {
      "name": "Loss and Cost function.ipynb",
      "provenance": [],
      "authorship_tag": "ABX9TyMQXmFp1fRtFX/ZczDuF1m6",
      "include_colab_link": true
    },
    "kernelspec": {
      "name": "python3",
      "display_name": "Python 3"
    },
    "language_info": {
      "name": "python"
    }
  },
  "cells": [
    {
      "cell_type": "markdown",
      "metadata": {
        "id": "view-in-github",
        "colab_type": "text"
      },
      "source": [
        "<a href=\"https://colab.research.google.com/github/tasneem96/Deep-Learning-Practice/blob/main/Loss_and_Cost_function.ipynb\" target=\"_parent\"><img src=\"https://colab.research.google.com/assets/colab-badge.svg\" alt=\"Open In Colab\"/></a>"
      ]
    },
    {
      "cell_type": "code",
      "execution_count": 1,
      "metadata": {
        "id": "MGW4joqDvpFR"
      },
      "outputs": [],
      "source": [
        "import numpy as np \n",
        "\n",
        "y_predicted = np.array([1,1,0,0,1])\n",
        "y_true = np.array([0.30,0.7,1,0,0.50])"
      ]
    },
    {
      "cell_type": "code",
      "source": [
        "def Mean_abs_error (y_true, y_predicted):\n",
        "  total_error = 0\n",
        "  for yt,yp in zip(y_true,y_predicted):\n",
        "    total_error += abs(yt-yp)\n",
        "  print('total error',total_error)\n",
        "  Mean = total_error/len(y_true)\n",
        "  print('total mean',Mean)"
      ],
      "metadata": {
        "id": "v6qtJPyNw22f"
      },
      "execution_count": 6,
      "outputs": []
    },
    {
      "cell_type": "code",
      "source": [
        "Mean_abs_error(y_true, y_predicted)"
      ],
      "metadata": {
        "colab": {
          "base_uri": "https://localhost:8080/"
        },
        "id": "iIzvG5tOzRoz",
        "outputId": "b2c0762b-bb24-42c9-a1e8-83237b2e8f0a"
      },
      "execution_count": 7,
      "outputs": [
        {
          "output_type": "stream",
          "name": "stdout",
          "text": [
            "total error 2.5\n",
            "total mean 0.5\n"
          ]
        }
      ]
    },
    {
      "cell_type": "code",
      "source": [
        "np.mean(np.abs(y_true - y_predicted))"
      ],
      "metadata": {
        "colab": {
          "base_uri": "https://localhost:8080/"
        },
        "id": "6UyMcbgdz45z",
        "outputId": "d5ce9c5d-e803-42ab-f360-6846223e4697"
      },
      "execution_count": 9,
      "outputs": [
        {
          "output_type": "execute_result",
          "data": {
            "text/plain": [
              "0.5"
            ]
          },
          "metadata": {},
          "execution_count": 9
        }
      ]
    },
    {
      "cell_type": "code",
      "source": [
        "def Mean_sqr_error (y_true, y_predicted):\n",
        "    total_error = 0\n",
        "    for yt,yp in zip(y_true,y_predicted):\n",
        "      total_error += (abs(yt-yp))*(abs(yt-yp))\n",
        "    print('total error',total_error)\n",
        "    Mean = total_error/len(y_true)\n",
        "    print('total mean',Mean)"
      ],
      "metadata": {
        "id": "UXd8O3xc0PNo"
      },
      "execution_count": 17,
      "outputs": []
    },
    {
      "cell_type": "code",
      "source": [
        "Mean_sqr_error (y_true, y_predicted)"
      ],
      "metadata": {
        "colab": {
          "base_uri": "https://localhost:8080/"
        },
        "id": "BoOdjVqm0rKu",
        "outputId": "97c93912-2581-42e3-baf0-2c4e1cdcf048"
      },
      "execution_count": 18,
      "outputs": [
        {
          "output_type": "stream",
          "name": "stdout",
          "text": [
            "total error 1.83\n",
            "total mean 0.366\n"
          ]
        }
      ]
    },
    {
      "cell_type": "code",
      "source": [
        "np.mean(np.square(np.abs(y_true-y_predicted)))"
      ],
      "metadata": {
        "colab": {
          "base_uri": "https://localhost:8080/"
        },
        "id": "tPsJYLKF1EEa",
        "outputId": "c587e990-e392-449e-84fc-f2bb0f05abf6"
      },
      "execution_count": 20,
      "outputs": [
        {
          "output_type": "execute_result",
          "data": {
            "text/plain": [
              "0.366"
            ]
          },
          "metadata": {},
          "execution_count": 20
        }
      ]
    },
    {
      "cell_type": "code",
      "source": [
        "def log_loss1 (y_true,y_predicted):\n",
        "  epsilon = 1e-15\n",
        "  new_y_predicted = [max(i,epsilon) for i in y_predicted]\n",
        "  new_y_predicted = [min (i,1-epsilon) for i in new_y_predicted]\n",
        "  new_y_predicted = np.array(new_y_predicted)\n",
        "  return -np.mean(y_true * np.log(new_y_predicted) + (1-y_true)* np.log(1-new_y_predicted))\n"
      ],
      "metadata": {
        "id": "5ih9O7fR6ALE"
      },
      "execution_count": 45,
      "outputs": []
    },
    {
      "cell_type": "code",
      "source": [
        "log_loss1 (y_true,y_predicted)"
      ],
      "metadata": {
        "colab": {
          "base_uri": "https://localhost:8080/"
        },
        "id": "GUQUh9m27xmq",
        "outputId": "f32c9c4a-fcc1-4dea-f640-06c007d1a8b3"
      },
      "execution_count": 46,
      "outputs": [
        {
          "output_type": "execute_result",
          "data": {
            "text/plain": [
              "17.2696280766844"
            ]
          },
          "metadata": {},
          "execution_count": 46
        }
      ]
    }
  ]
}